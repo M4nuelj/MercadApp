{
 "cells": [
  {
   "cell_type": "code",
   "execution_count": 21,
   "metadata": {},
   "outputs": [],
   "source": [
    "import json\n",
    "import spacy"
   ]
  },
  {
   "cell_type": "code",
   "execution_count": 23,
   "metadata": {},
   "outputs": [],
   "source": [
    "with open('merkadapp.bills.json', 'r') as file:\n",
    "    products = json.load(file)\n"
   ]
  },
  {
   "cell_type": "code",
   "execution_count": 24,
   "metadata": {},
   "outputs": [],
   "source": [
    "nlp = spacy.load(\"es_core_news_sm\")\n",
    "def preprocess_text (text):\n",
    "    doc =nlp(text)\n",
    "    return [token.text.lower() for token in doc if not token.is_stop and not token.is_punct]"
   ]
  },
  {
   "cell_type": "code",
   "execution_count": 27,
   "metadata": {},
   "outputs": [],
   "source": [
    "def product_code_finder(description):\n",
    "    tokens = preprocess_text(description)\n",
    "    for product in products:\n",
    "        if any (token in product['product_name'].lower() for token in tokens):\n",
    "            return product['id']\n",
    "    return None"
   ]
  },
  {
   "cell_type": "code",
   "execution_count": 29,
   "metadata": {},
   "outputs": [
    {
     "name": "stdout",
     "output_type": "stream",
     "text": [
      "The product code for \"limones pesados\" is 66dbcc740196956e610575a5\n"
     ]
    }
   ],
   "source": [
    "description = \"limones pesados\"\n",
    "product_code= product_code_finder(description)\n",
    "if product_code :\n",
    "    print(f'The product code for \"{description}\" is {product_code}')\n",
    "else: print(f'The product code for \"{description}\" was not found')\n",
    "    "
   ]
  },
  {
   "cell_type": "markdown",
   "metadata": {},
   "source": [
    "  \"name\": \"Pimenton\",\n",
    "  \"id\": \"65f50fb2f510bd96ebaede4c\""
   ]
  },
  {
   "cell_type": "code",
   "execution_count": null,
   "metadata": {},
   "outputs": [],
   "source": []
  }
 ],
 "metadata": {
  "kernelspec": {
   "display_name": "PYTHON_KERNEL2025",
   "language": "python",
   "name": "python_kernel2025"
  },
  "language_info": {
   "codemirror_mode": {
    "name": "ipython",
    "version": 3
   },
   "file_extension": ".py",
   "mimetype": "text/x-python",
   "name": "python",
   "nbconvert_exporter": "python",
   "pygments_lexer": "ipython3",
   "version": "3.12.7"
  }
 },
 "nbformat": 4,
 "nbformat_minor": 2
}
